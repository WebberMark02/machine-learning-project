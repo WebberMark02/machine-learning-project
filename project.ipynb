{
  "cells": [
    {
      "cell_type": "markdown",
      "metadata": {
        "id": "view-in-github",
        "colab_type": "text"
      },
      "source": [
        "<a href=\"https://colab.research.google.com/github/WebberMark02/machine-learning-project/blob/main/project.ipynb\" target=\"_parent\"><img src=\"https://colab.research.google.com/assets/colab-badge.svg\" alt=\"Open In Colab\"/></a>"
      ]
    },
    {
      "cell_type": "markdown",
      "source": [
        "Importo le librerie necessarie e scelgo di utilizzare \"tensorflow\" come\n",
        "backend per \"Keras\"."
      ],
      "metadata": {
        "id": "gNcUV4pt1_KE"
      }
    },
    {
      "cell_type": "code",
      "source": [
        "import numpy as np\n",
        "import os\n",
        "os.environ[\"KERAS_BACKEND\"] = \"tensorflow\"\n",
        "import keras\n",
        "from matplotlib import pyplot as plt\n",
        "import sklearn\n",
        "from tensorflow.keras.datasets import mnist, fashion_mnist"
      ],
      "metadata": {
        "id": "VAXrS08i2CjQ"
      },
      "execution_count": 1,
      "outputs": []
    },
    {
      "cell_type": "markdown",
      "source": [
        "Imposto le variabili globali."
      ],
      "metadata": {
        "id": "Seh4hYeV2Osd"
      }
    },
    {
      "cell_type": "code",
      "source": [
        "seed = 42\n",
        "training_set_size = 250000\n",
        "testing_set_size = 5000\n",
        "validation_set_size = 20000\n",
        "image_shape = (32, 32)\n",
        "batch_size = 256\n",
        "epochs = 250\n",
        "learning_rate = 0.001\n",
        "early_stopping_patience = 50"
      ],
      "metadata": {
        "id": "C8nN3iR52JSr"
      },
      "execution_count": 2,
      "outputs": []
    },
    {
      "cell_type": "markdown",
      "source": [
        "Definisco il generatore di immagini sulle quali il modello\n",
        "verrà addestrato e testato.  \n",
        "Il generatore restituisce \"batchsize\" immagini; ogni immagine è\n",
        "la media di due immagini scelte casualmente rispettivamente da 'x1' e 'x2'.  \n",
        "Il generatore restituisce, inoltre, per ogni media di immagini, la coppia delle immagini delle quali è stata calcolata la media stessa."
      ],
      "metadata": {
        "id": "fTrSU0rn2Y3p"
      }
    },
    {
      "cell_type": "code",
      "source": [
        "def datagenerator(x1,x2,batchsize):\n",
        "    n1 = x1.shape[0]\n",
        "    n2 = x2.shape[0]\n",
        "    while True:\n",
        "        num1 = np.random.randint(0, n1, batchsize)\n",
        "        num2 = np.random.randint(0, n2, batchsize)\n",
        "\n",
        "        x_data = (x1[num1] + x2[num2]) / 2.0\n",
        "        y_data = (x1[num1], x2[num2])\n",
        "\n",
        "        yield x_data, y_data"
      ],
      "metadata": {
        "id": "Msxd-j1j2g5T"
      },
      "execution_count": 3,
      "outputs": []
    },
    {
      "cell_type": "markdown",
      "source": [
        "Definisco una funzione per il controllo del bilanciamento delle classi.  \n",
        "Mi servirà per verificare che la divisione stratificata abbia avuto successo."
      ],
      "metadata": {
        "id": "0DKB7LG33wRw"
      }
    },
    {
      "cell_type": "code",
      "source": [
        "def stampa_percentuale( y, title=\"\" ):\n",
        "  if title:print(title)\n",
        "  # Calcoliamo le occorrenze di ciascuna classe nel dataset\n",
        "  unique, counts = np.unique(y, return_counts=True)\n",
        "  percentuali = (counts / len(y)) * 100 # calcolo la % di occorrenze per ciascuna classe\n",
        "  # Stampiamo le occorrenze e le percentuali\n",
        "  for classe, conteggio, percentuale in zip(unique, counts, percentuali):\n",
        "      print(f\"Classe {classe}: Occorrenze = {conteggio}, Percentuale {percentuale} %\" )\n",
        "  print(f\"Totale occorrenze : {sum(counts)}\")\n",
        "  print()"
      ],
      "metadata": {
        "id": "3z92DZs935J6"
      },
      "execution_count": 4,
      "outputs": []
    },
    {
      "cell_type": "markdown",
      "source": [
        "Definisco un modello banale.\n",
        "Mi servirà per valutare che la rete abbia prestazioni migliori di esso."
      ],
      "metadata": {
        "id": "mdVdsGyY38FY"
      }
    },
    {
      "cell_type": "code",
      "source": [
        "def ide_model(x):\n",
        "   return((x,x))"
      ],
      "metadata": {
        "id": "Vyn_ESXT4F3j"
      },
      "execution_count": 5,
      "outputs": []
    },
    {
      "cell_type": "markdown",
      "source": [
        "Ora ha inizio la fase di caricamento e preparazione dei dataset che verranno utilizzati\n",
        "per addestrare e esaminare le prestazioni della rete.\n",
        "\n",
        "Prima di tutto, carico i training set e i testing set di \"MNIST\" e \"Fashion MNIST\"."
      ],
      "metadata": {
        "id": "mKhtLevU4QS4"
      }
    },
    {
      "cell_type": "code",
      "source": [
        "(mnist_x_train, mnist_y_train), (mnist_x_test, mnist_y_test) = mnist.load_data()\n",
        "(fashion_mnist_x_train, fashion_mnist_y_train), (fashion_mnist_x_test, fashion_mnist_y_test) = fashion_mnist.load_data()\n",
        "\n",
        "print(np.shape(mnist_x_train))"
      ],
      "metadata": {
        "colab": {
          "base_uri": "https://localhost:8080/"
        },
        "id": "naZI3jI34Qgo",
        "outputId": "85a1e69d-25e7-437a-a23e-79370ed974a2"
      },
      "execution_count": 6,
      "outputs": [
        {
          "output_type": "stream",
          "name": "stdout",
          "text": [
            "Downloading data from https://storage.googleapis.com/tensorflow/tf-keras-datasets/mnist.npz\n",
            "\u001b[1m11490434/11490434\u001b[0m \u001b[32m━━━━━━━━━━━━━━━━━━━━\u001b[0m\u001b[37m\u001b[0m \u001b[1m1s\u001b[0m 0us/step\n",
            "Downloading data from https://storage.googleapis.com/tensorflow/tf-keras-datasets/train-labels-idx1-ubyte.gz\n",
            "\u001b[1m29515/29515\u001b[0m \u001b[32m━━━━━━━━━━━━━━━━━━━━\u001b[0m\u001b[37m\u001b[0m \u001b[1m0s\u001b[0m 0us/step\n",
            "Downloading data from https://storage.googleapis.com/tensorflow/tf-keras-datasets/train-images-idx3-ubyte.gz\n",
            "\u001b[1m26421880/26421880\u001b[0m \u001b[32m━━━━━━━━━━━━━━━━━━━━\u001b[0m\u001b[37m\u001b[0m \u001b[1m1s\u001b[0m 0us/step\n",
            "Downloading data from https://storage.googleapis.com/tensorflow/tf-keras-datasets/t10k-labels-idx1-ubyte.gz\n",
            "\u001b[1m5148/5148\u001b[0m \u001b[32m━━━━━━━━━━━━━━━━━━━━\u001b[0m\u001b[37m\u001b[0m \u001b[1m0s\u001b[0m 0us/step\n",
            "Downloading data from https://storage.googleapis.com/tensorflow/tf-keras-datasets/t10k-images-idx3-ubyte.gz\n",
            "\u001b[1m4422102/4422102\u001b[0m \u001b[32m━━━━━━━━━━━━━━━━━━━━\u001b[0m\u001b[37m\u001b[0m \u001b[1m1s\u001b[0m 0us/step\n",
            "(60000, 28, 28)\n"
          ]
        }
      ]
    },
    {
      "cell_type": "markdown",
      "source": [
        "Ridimensiono le immagini tramite padding, portando la loro risoluzione da 28x28 a 32x32.  \n",
        "Inoltre, le normalizzo nell'intervallo [0, 1] così da poterle dare in input alla rete neurale che costruirò."
      ],
      "metadata": {
        "id": "SgRovOk-4n4z"
      }
    },
    {
      "cell_type": "code",
      "source": [
        "#normalize in and pad\n",
        "mnist_x_train = np.pad(mnist_x_train,((0,0),(2,2),(2,2)))/255.\n",
        "mnist_x_test = np.pad(mnist_x_test,((0,0),(2,2),(2,2)))/255.\n",
        "fashion_mnist_x_train = np.pad(fashion_mnist_x_train,((0,0),(2,2),(2,2)))/255.\n",
        "fashion_mnist_x_test = np.pad(fashion_mnist_x_test,((0,0),(2,2),(2,2)))/255.\n",
        "\n",
        "print(np.shape(mnist_x_train))"
      ],
      "metadata": {
        "colab": {
          "base_uri": "https://localhost:8080/"
        },
        "id": "6EkD9Wb246KM",
        "outputId": "dc27ff07-7b59-4581-d30c-d082e7128e67"
      },
      "execution_count": 7,
      "outputs": [
        {
          "output_type": "stream",
          "name": "stdout",
          "text": [
            "(60000, 32, 32)\n"
          ]
        }
      ]
    },
    {
      "cell_type": "markdown",
      "source": [
        "Controllo il bilanciamento delle classi nei training set prima della divisione stratificata."
      ],
      "metadata": {
        "id": "dn2OwqKL7rbY"
      }
    },
    {
      "cell_type": "code",
      "source": [
        "stampa_percentuale(mnist_y_train, 'MNIST training set completo')\n",
        "stampa_percentuale(fashion_mnist_y_train, 'Fashion MNIST training set completo')"
      ],
      "metadata": {
        "id": "a7Xsfvub7uS6",
        "outputId": "73a13093-a2de-4376-e3b9-d7713e64c226",
        "colab": {
          "base_uri": "https://localhost:8080/"
        }
      },
      "execution_count": 8,
      "outputs": [
        {
          "output_type": "stream",
          "name": "stdout",
          "text": [
            "MNIST training set completo\n",
            "Classe 0: Occorrenze = 5923, Percentuale 9.871666666666666 %\n",
            "Classe 1: Occorrenze = 6742, Percentuale 11.236666666666666 %\n",
            "Classe 2: Occorrenze = 5958, Percentuale 9.93 %\n",
            "Classe 3: Occorrenze = 6131, Percentuale 10.218333333333334 %\n",
            "Classe 4: Occorrenze = 5842, Percentuale 9.736666666666666 %\n",
            "Classe 5: Occorrenze = 5421, Percentuale 9.035 %\n",
            "Classe 6: Occorrenze = 5918, Percentuale 9.863333333333333 %\n",
            "Classe 7: Occorrenze = 6265, Percentuale 10.441666666666666 %\n",
            "Classe 8: Occorrenze = 5851, Percentuale 9.751666666666667 %\n",
            "Classe 9: Occorrenze = 5949, Percentuale 9.915000000000001 %\n",
            "Totale occorrenze : 60000\n",
            "\n",
            "Fashion MNIST training set completo\n",
            "Classe 0: Occorrenze = 6000, Percentuale 10.0 %\n",
            "Classe 1: Occorrenze = 6000, Percentuale 10.0 %\n",
            "Classe 2: Occorrenze = 6000, Percentuale 10.0 %\n",
            "Classe 3: Occorrenze = 6000, Percentuale 10.0 %\n",
            "Classe 4: Occorrenze = 6000, Percentuale 10.0 %\n",
            "Classe 5: Occorrenze = 6000, Percentuale 10.0 %\n",
            "Classe 6: Occorrenze = 6000, Percentuale 10.0 %\n",
            "Classe 7: Occorrenze = 6000, Percentuale 10.0 %\n",
            "Classe 8: Occorrenze = 6000, Percentuale 10.0 %\n",
            "Classe 9: Occorrenze = 6000, Percentuale 10.0 %\n",
            "Totale occorrenze : 60000\n",
            "\n"
          ]
        }
      ]
    },
    {
      "cell_type": "markdown",
      "source": [
        "Divido ogni training set in due insiemi: il training set e il validation set.\n",
        "Le immagini dei validation set verranno usate per l'ottimizzazione degli iper-parametri della rete.\n",
        "Ogni validation set conterrà il 20% delle immagini del training set di partenza.\n",
        "Uso la stratificazione per mantenere le classi nelle stesse proporzioni."
      ],
      "metadata": {
        "id": "b29NjrbE-V-z"
      }
    },
    {
      "cell_type": "code",
      "source": [
        "mnist_x_train, mnist_x_val, mnist_y_train, mnist_y_val = sklearn.model_selection.train_test_split(mnist_x_train, mnist_y_train, test_size=0.2, stratify=mnist_y_train, random_state=seed)\n",
        "fashion_mnist_x_train, fashion_mnist_x_val, fashion_mnist_y_train, fashion_mnist_y_val = sklearn.model_selection.train_test_split(fashion_mnist_x_train, fashion_mnist_y_train, test_size=0.2, stratify=fashion_mnist_y_train, random_state=seed)"
      ],
      "metadata": {
        "id": "xENN8DNY-uZQ"
      },
      "execution_count": 9,
      "outputs": []
    },
    {
      "cell_type": "markdown",
      "source": [
        "Controllo il bilanciamento delle classi nei training set e nei validation set ottenuti dalla divisione stratificata."
      ],
      "metadata": {
        "id": "s8vTNUf2_VSj"
      }
    },
    {
      "cell_type": "code",
      "source": [
        "stampa_percentuale(mnist_y_train, 'MNIST training set risultante')\n",
        "stampa_percentuale(mnist_y_val, 'MNIST validation set risultante')\n",
        "\n",
        "stampa_percentuale(fashion_mnist_y_train, 'Fashion MNIST training set risultante')\n",
        "stampa_percentuale(fashion_mnist_y_val, 'Fashion MNIST validation set risultante')"
      ],
      "metadata": {
        "id": "Y88auHto_ccW",
        "outputId": "dd9b2a0a-54f9-4fc2-c35c-96d35951ba6d",
        "colab": {
          "base_uri": "https://localhost:8080/"
        }
      },
      "execution_count": 10,
      "outputs": [
        {
          "output_type": "stream",
          "name": "stdout",
          "text": [
            "MNIST training set risultante\n",
            "Classe 0: Occorrenze = 4738, Percentuale 9.870833333333334 %\n",
            "Classe 1: Occorrenze = 5394, Percentuale 11.2375 %\n",
            "Classe 2: Occorrenze = 4766, Percentuale 9.929166666666667 %\n",
            "Classe 3: Occorrenze = 4905, Percentuale 10.21875 %\n",
            "Classe 4: Occorrenze = 4674, Percentuale 9.7375 %\n",
            "Classe 5: Occorrenze = 4337, Percentuale 9.035416666666666 %\n",
            "Classe 6: Occorrenze = 4734, Percentuale 9.8625 %\n",
            "Classe 7: Occorrenze = 5012, Percentuale 10.441666666666666 %\n",
            "Classe 8: Occorrenze = 4681, Percentuale 9.752083333333333 %\n",
            "Classe 9: Occorrenze = 4759, Percentuale 9.914583333333333 %\n",
            "Totale occorrenze : 48000\n",
            "\n",
            "MNIST validation set risultante\n",
            "Classe 0: Occorrenze = 1185, Percentuale 9.875 %\n",
            "Classe 1: Occorrenze = 1348, Percentuale 11.233333333333333 %\n",
            "Classe 2: Occorrenze = 1192, Percentuale 9.933333333333334 %\n",
            "Classe 3: Occorrenze = 1226, Percentuale 10.216666666666667 %\n",
            "Classe 4: Occorrenze = 1168, Percentuale 9.733333333333333 %\n",
            "Classe 5: Occorrenze = 1084, Percentuale 9.033333333333333 %\n",
            "Classe 6: Occorrenze = 1184, Percentuale 9.866666666666667 %\n",
            "Classe 7: Occorrenze = 1253, Percentuale 10.441666666666666 %\n",
            "Classe 8: Occorrenze = 1170, Percentuale 9.75 %\n",
            "Classe 9: Occorrenze = 1190, Percentuale 9.916666666666666 %\n",
            "Totale occorrenze : 12000\n",
            "\n",
            "Fashion MNIST training set risultante\n",
            "Classe 0: Occorrenze = 4800, Percentuale 10.0 %\n",
            "Classe 1: Occorrenze = 4800, Percentuale 10.0 %\n",
            "Classe 2: Occorrenze = 4800, Percentuale 10.0 %\n",
            "Classe 3: Occorrenze = 4800, Percentuale 10.0 %\n",
            "Classe 4: Occorrenze = 4800, Percentuale 10.0 %\n",
            "Classe 5: Occorrenze = 4800, Percentuale 10.0 %\n",
            "Classe 6: Occorrenze = 4800, Percentuale 10.0 %\n",
            "Classe 7: Occorrenze = 4800, Percentuale 10.0 %\n",
            "Classe 8: Occorrenze = 4800, Percentuale 10.0 %\n",
            "Classe 9: Occorrenze = 4800, Percentuale 10.0 %\n",
            "Totale occorrenze : 48000\n",
            "\n",
            "Fashion MNIST validation set risultante\n",
            "Classe 0: Occorrenze = 1200, Percentuale 10.0 %\n",
            "Classe 1: Occorrenze = 1200, Percentuale 10.0 %\n",
            "Classe 2: Occorrenze = 1200, Percentuale 10.0 %\n",
            "Classe 3: Occorrenze = 1200, Percentuale 10.0 %\n",
            "Classe 4: Occorrenze = 1200, Percentuale 10.0 %\n",
            "Classe 5: Occorrenze = 1200, Percentuale 10.0 %\n",
            "Classe 6: Occorrenze = 1200, Percentuale 10.0 %\n",
            "Classe 7: Occorrenze = 1200, Percentuale 10.0 %\n",
            "Classe 8: Occorrenze = 1200, Percentuale 10.0 %\n",
            "Classe 9: Occorrenze = 1200, Percentuale 10.0 %\n",
            "Totale occorrenze : 12000\n",
            "\n"
          ]
        }
      ]
    },
    {
      "cell_type": "code",
      "source": [],
      "metadata": {
        "id": "Isn3rYuF_reG"
      },
      "execution_count": null,
      "outputs": []
    }
  ],
  "metadata": {
    "kernelspec": {
      "display_name": "Python 3",
      "name": "python3"
    },
    "language_info": {
      "codemirror_mode": {
        "name": "ipython",
        "version": 3
      },
      "file_extension": ".py",
      "mimetype": "text/x-python",
      "name": "python",
      "nbconvert_exporter": "python",
      "pygments_lexer": "ipython3",
      "version": "3.12.7"
    },
    "colab": {
      "provenance": [],
      "include_colab_link": true
    }
  },
  "nbformat": 4,
  "nbformat_minor": 0
}