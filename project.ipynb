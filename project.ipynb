{
  "cells": [
    {
      "cell_type": "markdown",
      "metadata": {
        "id": "view-in-github",
        "colab_type": "text"
      },
      "source": [
        "<a href=\"https://colab.research.google.com/github/WebberMark02/machine-learning-project/blob/main/project.ipynb\" target=\"_parent\"><img src=\"https://colab.research.google.com/assets/colab-badge.svg\" alt=\"Open In Colab\"/></a>"
      ]
    },
    {
      "cell_type": "markdown",
      "metadata": {
        "id": "Ji71gvVwqCty"
      },
      "source": [
        "Importo le librerie necessarie e scelgo di utilizzare \"tensorflow\" come\n",
        "backend per \"Keras\""
      ]
    },
    {
      "cell_type": "code",
      "execution_count": 1,
      "metadata": {
        "id": "_Zn_bDCHqCtz"
      },
      "outputs": [],
      "source": [
        "import numpy as np\n",
        "import os\n",
        "os.environ[\"KERAS_BACKEND\"] = \"tensorflow\"\n",
        "import keras\n",
        "from matplotlib import pyplot as plt\n",
        "import sklearn"
      ]
    },
    {
      "cell_type": "markdown",
      "metadata": {
        "id": "miIes5RmqCt0"
      },
      "source": [
        "Imposto le variabili globali"
      ]
    },
    {
      "cell_type": "code",
      "execution_count": 2,
      "metadata": {
        "id": "qyEC7p3vqCt0"
      },
      "outputs": [],
      "source": [
        "# TODO: Incrementa il numero di campioni di training e il numero di campioni di validation.\n",
        "# Per capire a quanto impostarli, calcola il numero massimo di possibili combinazioni di due immagini nel\n",
        "# training set di Cifar10 e il numero massimo di possibili combinazioni di due immagini nel validation set di 10000\n",
        "# immagini ottenuto dal training set di Cifar10.\n",
        "\n",
        "training_set_size = 40000\n",
        "testing_set_size = 10000\n",
        "validation_set_size = 10000\n",
        "image_shape = (32, 32, 3)\n",
        "batch_size = 64\n",
        "epochs = 10"
      ]
    },
    {
      "cell_type": "markdown",
      "metadata": {
        "id": "30qeV0dSqCt1"
      },
      "source": [
        "Definisco il generatore di immagini sulle quali il modello verrà addestrato e testato.\n",
        "Il generatore restituisce \"batchsize\" immagini; ogni immagine è la media di due immagini\n",
        "scelte casualmente rispettivamente da X1 e X2.\n",
        "Il generatore restituisce, inoltre, una coppia di matrici, che possiamo denotare con y.\n",
        "y[0][i] e y[1][i] sono, rispettivamente, la classe della prima componente e la classe della seconda componente\n",
        "della immagine i-esima.\n",
        "Ogni classe è rappresentata con un vettore di lunghezza 5 dove ogni elemento è nullo tranne quello\n",
        "il cui indice corrisponde alla classe stessa."
      ]
    },
    {
      "cell_type": "code",
      "execution_count": 3,
      "metadata": {
        "id": "EAj13zFWqCt1"
      },
      "outputs": [],
      "source": [
        "def datagenerator(x1,x2,y1,y2,batchsize):\n",
        "  # Numero di immagini in X1\n",
        "  size1 = x1.shape[0]\n",
        "  # Numero di immagini in X2\n",
        "  size2 = x2.shape[0]\n",
        "\n",
        "  # Trasforma, per esempio, [0, 1, 2] in [[1, 0, 0], [0, 1, 0], [0, 0, 1]]\n",
        "  y1_cat = keras.utils.to_categorical(y1, num_classes=5)\n",
        "  y2_cat = keras.utils.to_categorical(y2-5, num_classes=5)\n",
        "\n",
        "  while True:\n",
        "    num1 = np.random.randint(0, size1, batchsize)\n",
        "    num2 = np.random.randint(0, size2, batchsize)\n",
        "    x_data = (x1[num1] + x2[num2]) / 2.0\n",
        "    y_data = [y1_cat[num1],y2_cat[num2]]\n",
        "\n",
        "    yield x_data, y_data"
      ]
    },
    {
      "cell_type": "markdown",
      "metadata": {
        "id": "qI-3l7LkqCt2"
      },
      "source": [
        "Definisco una funzione per il controllo del bilanciamento delle classi.\n",
        "Mi servirà per verificare che la divisione stratificata del training set\n",
        "di Cifar10 in training set e validation set abbia avuto successo."
      ]
    },
    {
      "cell_type": "code",
      "execution_count": 4,
      "metadata": {
        "id": "mtxwvO74qCt2"
      },
      "outputs": [],
      "source": [
        "def stampa_percentuale( y, title=\"\" ):\n",
        "  if title:print(title)\n",
        "  # Calcoliamo le occorrenze di ciascuna classe nel dataset\n",
        "  unique, counts = np.unique(y, return_counts=True)\n",
        "  percentuali = (counts / len(y)) * 100 # calcolo la % di occorrenze per ciascuna classe\n",
        "  # Stampiamo le occorrenze e le percentuali\n",
        "  for classe, conteggio, percentuale in zip(unique, counts, percentuali):\n",
        "      print(f\"Classe {classe}: Occorrenze = {conteggio}, Percentuale {percentuale} %\" )\n",
        "  print(f\"Totale occorrenze : {sum(counts)}\")\n",
        "  print()"
      ]
    },
    {
      "cell_type": "markdown",
      "source": [
        "Definisco un modello casuale.\n",
        "Mi servirà per valutare che la rete abbia prestazioni migliori di quelle casuali."
      ],
      "metadata": {
        "id": "SNNprRV8v033"
      }
    },
    {
      "cell_type": "code",
      "source": [
        "def random_model(x):\n",
        "  #the random model ingnore the input x and return a pair of random classes\n",
        "  return(np.random.randint(0,5,(10000,2)))"
      ],
      "metadata": {
        "id": "qbYGmmyqv0Od"
      },
      "execution_count": 5,
      "outputs": []
    },
    {
      "cell_type": "markdown",
      "metadata": {
        "id": "LgeP1UEnqCt2"
      },
      "source": [
        "Ora ha inizio la fase di caricamento e pre-processing dei dataset che verranno utilizzati\n",
        "per addestrare e esaminare le prestazioni della rete.\n",
        "\n",
        "Prima di tutto, carico il training set e il testing set di Cifar10"
      ]
    },
    {
      "cell_type": "code",
      "execution_count": 6,
      "metadata": {
        "colab": {
          "base_uri": "https://localhost:8080/"
        },
        "id": "6JS5gpBXqCt2",
        "outputId": "f42cc6d0-02f1-4a53-a7ef-0402eb1aa282"
      },
      "outputs": [
        {
          "output_type": "stream",
          "name": "stdout",
          "text": [
            "Downloading data from https://www.cs.toronto.edu/~kriz/cifar-10-python.tar.gz\n",
            "\u001b[1m170498071/170498071\u001b[0m \u001b[32m━━━━━━━━━━━━━━━━━━━━\u001b[0m\u001b[37m\u001b[0m \u001b[1m13s\u001b[0m 0us/step\n"
          ]
        }
      ],
      "source": [
        "(cifar10_x_train, cifar10_y_train), (cifar10_x_test, cifar10_y_test) = keras.datasets.cifar10.load_data()\n",
        "assert cifar10_x_train.shape == (50000, 32, 32, 3)\n",
        "assert cifar10_x_test.shape == (10000, 32, 32, 3)\n",
        "assert cifar10_y_train.shape == (50000, 1)\n",
        "assert cifar10_y_test.shape == (10000, 1)"
      ]
    },
    {
      "cell_type": "code",
      "execution_count": 7,
      "metadata": {
        "id": "O68Ad-pJqCt3"
      },
      "outputs": [],
      "source": [
        "# Tutte le possibili classi di Cifar10\n",
        "classes = [\"airplane\", \"automobile\", \"bird\", \"cat\", \"deer\", \"dog\", \"frog\", \"horse\", \"ship\", \"truck\"]"
      ]
    },
    {
      "cell_type": "markdown",
      "metadata": {
        "id": "HNWVxIILqCt3"
      },
      "source": [
        "Normalizzo i valori dei pixel delle immagini di Cifar10 nell'intervallo [0,1] così da poterle dare in input\n",
        "alla rete neurale che costruirò"
      ]
    },
    {
      "cell_type": "code",
      "execution_count": 8,
      "metadata": {
        "id": "ZjDoQSV_qCt3"
      },
      "outputs": [],
      "source": [
        "cifar10_x_train = (cifar10_x_train/255.).astype(np.float32)\n",
        "cifar10_x_test = (cifar10_x_test/255.).astype(np.float32)"
      ]
    },
    {
      "cell_type": "markdown",
      "metadata": {
        "id": "ge_J0AJ1qCt3"
      },
      "source": [
        "Controllo il bilanciamento delle classi nel training set prima della divisione stratificata"
      ]
    },
    {
      "cell_type": "code",
      "execution_count": 9,
      "metadata": {
        "colab": {
          "base_uri": "https://localhost:8080/"
        },
        "id": "jDnBTrgMqCt3",
        "outputId": "707a10d1-0e78-4ca3-e366-084383baf6b8"
      },
      "outputs": [
        {
          "output_type": "stream",
          "name": "stdout",
          "text": [
            "Training set completo\n",
            "Classe 0: Occorrenze = 5000, Percentuale 10.0 %\n",
            "Classe 1: Occorrenze = 5000, Percentuale 10.0 %\n",
            "Classe 2: Occorrenze = 5000, Percentuale 10.0 %\n",
            "Classe 3: Occorrenze = 5000, Percentuale 10.0 %\n",
            "Classe 4: Occorrenze = 5000, Percentuale 10.0 %\n",
            "Classe 5: Occorrenze = 5000, Percentuale 10.0 %\n",
            "Classe 6: Occorrenze = 5000, Percentuale 10.0 %\n",
            "Classe 7: Occorrenze = 5000, Percentuale 10.0 %\n",
            "Classe 8: Occorrenze = 5000, Percentuale 10.0 %\n",
            "Classe 9: Occorrenze = 5000, Percentuale 10.0 %\n",
            "Totale occorrenze : 50000\n",
            "\n"
          ]
        }
      ],
      "source": [
        "stampa_percentuale(cifar10_y_train, 'Training set completo')"
      ]
    },
    {
      "cell_type": "markdown",
      "metadata": {
        "id": "QSsO-Z5ZqCt3"
      },
      "source": [
        "Divido il training set di Cifar10 in due insiemi: il training set e il validation set.\n",
        "Quest'ultimo verrà usato per l'ottimizzazione degli iper-parametri della rete.\n",
        "Il validation set conterrà il 20% delle immagini del training set di Cifar10.\n",
        "Uso la stratificazione per mantenere le classi nelle stesse proporzioni."
      ]
    },
    {
      "cell_type": "code",
      "execution_count": 10,
      "metadata": {
        "id": "apJDIWaCqCt3"
      },
      "outputs": [],
      "source": [
        "cifar10_x_train, cifar10_x_val, cifar10_y_train, cifar10_y_val = sklearn.model_selection.train_test_split(cifar10_x_train, cifar10_y_train, test_size=0.2, stratify=cifar10_y_train, random_state=42)"
      ]
    },
    {
      "cell_type": "markdown",
      "metadata": {
        "id": "Mi5EG-Q8qCt4"
      },
      "source": [
        "Controllo il bilanciamento delle classi nel training set e nel validation set ottenuti dalla divisione stratificata"
      ]
    },
    {
      "cell_type": "code",
      "execution_count": 11,
      "metadata": {
        "colab": {
          "base_uri": "https://localhost:8080/"
        },
        "id": "qeh22ElfqCt4",
        "outputId": "728f235c-bb77-4e2f-baf5-3377aee3132f"
      },
      "outputs": [
        {
          "output_type": "stream",
          "name": "stdout",
          "text": [
            "Training set risultante\n",
            "Classe 0: Occorrenze = 4000, Percentuale 10.0 %\n",
            "Classe 1: Occorrenze = 4000, Percentuale 10.0 %\n",
            "Classe 2: Occorrenze = 4000, Percentuale 10.0 %\n",
            "Classe 3: Occorrenze = 4000, Percentuale 10.0 %\n",
            "Classe 4: Occorrenze = 4000, Percentuale 10.0 %\n",
            "Classe 5: Occorrenze = 4000, Percentuale 10.0 %\n",
            "Classe 6: Occorrenze = 4000, Percentuale 10.0 %\n",
            "Classe 7: Occorrenze = 4000, Percentuale 10.0 %\n",
            "Classe 8: Occorrenze = 4000, Percentuale 10.0 %\n",
            "Classe 9: Occorrenze = 4000, Percentuale 10.0 %\n",
            "Totale occorrenze : 40000\n",
            "\n",
            "Validation set risultante\n",
            "Classe 0: Occorrenze = 1000, Percentuale 10.0 %\n",
            "Classe 1: Occorrenze = 1000, Percentuale 10.0 %\n",
            "Classe 2: Occorrenze = 1000, Percentuale 10.0 %\n",
            "Classe 3: Occorrenze = 1000, Percentuale 10.0 %\n",
            "Classe 4: Occorrenze = 1000, Percentuale 10.0 %\n",
            "Classe 5: Occorrenze = 1000, Percentuale 10.0 %\n",
            "Classe 6: Occorrenze = 1000, Percentuale 10.0 %\n",
            "Classe 7: Occorrenze = 1000, Percentuale 10.0 %\n",
            "Classe 8: Occorrenze = 1000, Percentuale 10.0 %\n",
            "Classe 9: Occorrenze = 1000, Percentuale 10.0 %\n",
            "Totale occorrenze : 10000\n",
            "\n"
          ]
        }
      ],
      "source": [
        "stampa_percentuale(cifar10_y_train, 'Training set risultante')\n",
        "stampa_percentuale(cifar10_y_val, 'Validation set risultante')"
      ]
    },
    {
      "cell_type": "markdown",
      "metadata": {
        "id": "5E4iFjAiqCt4"
      },
      "source": [
        "Divido le immagini in due gruppi: un gruppo per le etichette [\"airplane\", \"automobile\", \"bird\", \"cat\", \"deer\"]\n",
        "e un secondo gruppo per le etichette [\"dog\", \"frog\", \"horse\", \"ship\", \"truck\"]"
      ]
    },
    {
      "cell_type": "code",
      "execution_count": 12,
      "metadata": {
        "id": "18GrCDXSqCt4"
      },
      "outputs": [],
      "source": [
        "cond_1 = cifar10_y_train[:,0] < 5\n",
        "cifar10_x_train_1 = cifar10_x_train[cond_1]\n",
        "cifar10_y_train_1 = cifar10_y_train[cond_1]\n",
        "\n",
        "cond_2 = cifar10_y_train[:,0] >= 5\n",
        "cifar10_x_train_2 = cifar10_x_train[cond_2]\n",
        "cifar10_y_train_2 = cifar10_y_train[cond_2]\n",
        "\n",
        "cond_1_test = cifar10_y_test[:,0] < 5\n",
        "cifar10_x_test_1 = cifar10_x_test[cond_1_test]\n",
        "cifar10_y_test_1 = cifar10_y_test[cond_1_test]\n",
        "\n",
        "cond_2_test = cifar10_y_test[:,0] >= 5\n",
        "cifar10_x_test_2 = cifar10_x_test[cond_2_test]\n",
        "cifar10_y_test_2 = cifar10_y_test[cond_2_test]\n",
        "\n",
        "cond_1_val = cifar10_y_val[:,0] < 5\n",
        "cifar10_x_val_1 = cifar10_x_val[cond_1_val]\n",
        "cifar10_y_val_1 = cifar10_y_val[cond_1_val]\n",
        "\n",
        "cond_2_val = cifar10_y_val[:,0] >= 5\n",
        "cifar10_x_val_2 = cifar10_x_val[cond_2_val]\n",
        "cifar10_y_val_2 = cifar10_y_val[cond_2_val]"
      ]
    },
    {
      "cell_type": "markdown",
      "metadata": {
        "id": "zF_w3Lh3qCt4"
      },
      "source": [
        "Creo tre istanze del generatore per generare il training set, il validation set e il testing set finali."
      ]
    },
    {
      "cell_type": "code",
      "execution_count": 13,
      "metadata": {
        "id": "23CmLchHqCt4"
      },
      "outputs": [],
      "source": [
        "traingen = datagenerator(cifar10_x_train_1, cifar10_x_train_2, cifar10_y_train_1, cifar10_y_train_2, training_set_size)\n",
        "valgen = datagenerator(cifar10_x_val_1, cifar10_x_val_2, cifar10_y_val_1, cifar10_y_val_2, validation_set_size)\n",
        "testgen = datagenerator(cifar10_x_test_1, cifar10_x_test_2, cifar10_y_test_1, cifar10_y_test_2, testing_set_size)"
      ]
    },
    {
      "cell_type": "markdown",
      "metadata": {
        "id": "_96ykmoPqCt5"
      },
      "source": [
        "Creo il training set e il validation set."
      ]
    },
    {
      "cell_type": "code",
      "execution_count": 14,
      "metadata": {
        "id": "EaRdDarAqCt5"
      },
      "outputs": [],
      "source": [
        "x_train, y_train = next(traingen)\n",
        "x_val, y_val = next(valgen)"
      ]
    },
    {
      "cell_type": "markdown",
      "metadata": {
        "id": "62Uk8azZqCt5"
      },
      "source": [
        "Verifico che le dimensioni dei due dataset siano corrette"
      ]
    },
    {
      "cell_type": "code",
      "execution_count": 15,
      "metadata": {
        "colab": {
          "base_uri": "https://localhost:8080/"
        },
        "id": "MEtPWDEnqCt5",
        "outputId": "d34544ea-7d1b-42fd-8695-ba4862f9dc72"
      },
      "outputs": [
        {
          "output_type": "stream",
          "name": "stdout",
          "text": [
            "(40000, 32, 32, 3)\n",
            "(10000, 32, 32, 3)\n",
            "2\n",
            "2\n",
            "(40000, 5)\n",
            "(40000, 5)\n",
            "(10000, 5)\n",
            "(10000, 5)\n"
          ]
        }
      ],
      "source": [
        "print(x_train.shape)\n",
        "print(x_val.shape)\n",
        "\n",
        "print(len(y_train))\n",
        "print(len(y_val))\n",
        "\n",
        "print(y_train[0].shape)\n",
        "print(y_train[1].shape)\n",
        "print(y_val[0].shape)\n",
        "print(y_val[1].shape)"
      ]
    },
    {
      "cell_type": "markdown",
      "metadata": {
        "id": "TArvk3SDqCt5"
      },
      "source": [
        "Controllo che i valori dei pixel delle immagini appartengano all'intervallo [0,1]"
      ]
    },
    {
      "cell_type": "code",
      "execution_count": 16,
      "metadata": {
        "colab": {
          "base_uri": "https://localhost:8080/"
        },
        "id": "1Inp-IFlqCt5",
        "outputId": "602a5a23-e7cd-446e-cea0-43aff1ee7d9b"
      },
      "outputs": [
        {
          "output_type": "stream",
          "name": "stdout",
          "text": [
            "0.033333335 0.8156863\n",
            "0.16470589 0.76666665\n"
          ]
        }
      ],
      "source": [
        "print(np.min(x_train[0]), np.max(x_train[0]))\n",
        "print(np.min(x_val[0]), np.max(x_val[0]))"
      ]
    },
    {
      "cell_type": "markdown",
      "source": [
        "La fase di preparazione dei dataset è completa.\n",
        "Ora viene definita la rete neurale."
      ],
      "metadata": {
        "id": "h0Hfc9iTsewO"
      }
    },
    {
      "cell_type": "code",
      "source": [
        "def build_neural_network():\n",
        "  inputs = keras.Input(shape = image_shape, name = 'InputImage')\n",
        "  flatten = keras.layers.Flatten()(inputs)\n",
        "  output1 = keras.layers.Dense(5, activation='softmax', name = 'FirstComponentClass')(flatten)\n",
        "  output2 = keras.layers.Dense(5, activation='softmax', name = 'SecondComponentClass')(flatten)\n",
        "  model = keras.Model(inputs = inputs, outputs = [output1, output2], name = \"Cifar10_Avg_Model\")\n",
        "  return model"
      ],
      "metadata": {
        "id": "kOFxks8jsoHR"
      },
      "execution_count": 17,
      "outputs": []
    },
    {
      "cell_type": "markdown",
      "source": [
        "Istanzio la rete neurale e mostro i suoi dettagli"
      ],
      "metadata": {
        "id": "YLIy0T4ey5N3"
      }
    },
    {
      "cell_type": "code",
      "source": [
        "model = build_neural_network()\n",
        "model.summary()"
      ],
      "metadata": {
        "colab": {
          "base_uri": "https://localhost:8080/",
          "height": 294
        },
        "id": "BL2eRAQAy986",
        "outputId": "67bf84c0-d3a4-4cf1-9f2f-0903c297feb9"
      },
      "execution_count": 18,
      "outputs": [
        {
          "output_type": "display_data",
          "data": {
            "text/plain": [
              "\u001b[1mModel: \"Cifar10_Avg_Model\"\u001b[0m\n"
            ],
            "text/html": [
              "<pre style=\"white-space:pre;overflow-x:auto;line-height:normal;font-family:Menlo,'DejaVu Sans Mono',consolas,'Courier New',monospace\"><span style=\"font-weight: bold\">Model: \"Cifar10_Avg_Model\"</span>\n",
              "</pre>\n"
            ]
          },
          "metadata": {}
        },
        {
          "output_type": "display_data",
          "data": {
            "text/plain": [
              "┏━━━━━━━━━━━━━━━━━━━━━━━━━━━┳━━━━━━━━━━━━━━━━━━━━━━━━┳━━━━━━━━━━━━━━━━┳━━━━━━━━━━━━━━━━━━━━━━━━┓\n",
              "┃\u001b[1m \u001b[0m\u001b[1mLayer (type)             \u001b[0m\u001b[1m \u001b[0m┃\u001b[1m \u001b[0m\u001b[1mOutput Shape          \u001b[0m\u001b[1m \u001b[0m┃\u001b[1m \u001b[0m\u001b[1m       Param #\u001b[0m\u001b[1m \u001b[0m┃\u001b[1m \u001b[0m\u001b[1mConnected to          \u001b[0m\u001b[1m \u001b[0m┃\n",
              "┡━━━━━━━━━━━━━━━━━━━━━━━━━━━╇━━━━━━━━━━━━━━━━━━━━━━━━╇━━━━━━━━━━━━━━━━╇━━━━━━━━━━━━━━━━━━━━━━━━┩\n",
              "│ InputImage (\u001b[38;5;33mInputLayer\u001b[0m)   │ (\u001b[38;5;45mNone\u001b[0m, \u001b[38;5;34m32\u001b[0m, \u001b[38;5;34m32\u001b[0m, \u001b[38;5;34m3\u001b[0m)      │              \u001b[38;5;34m0\u001b[0m │ -                      │\n",
              "├───────────────────────────┼────────────────────────┼────────────────┼────────────────────────┤\n",
              "│ flatten (\u001b[38;5;33mFlatten\u001b[0m)         │ (\u001b[38;5;45mNone\u001b[0m, \u001b[38;5;34m3072\u001b[0m)           │              \u001b[38;5;34m0\u001b[0m │ InputImage[\u001b[38;5;34m0\u001b[0m][\u001b[38;5;34m0\u001b[0m]       │\n",
              "├───────────────────────────┼────────────────────────┼────────────────┼────────────────────────┤\n",
              "│ FirstComponentClass       │ (\u001b[38;5;45mNone\u001b[0m, \u001b[38;5;34m5\u001b[0m)              │         \u001b[38;5;34m15,365\u001b[0m │ flatten[\u001b[38;5;34m0\u001b[0m][\u001b[38;5;34m0\u001b[0m]          │\n",
              "│ (\u001b[38;5;33mDense\u001b[0m)                   │                        │                │                        │\n",
              "├───────────────────────────┼────────────────────────┼────────────────┼────────────────────────┤\n",
              "│ SecondComponentClass      │ (\u001b[38;5;45mNone\u001b[0m, \u001b[38;5;34m5\u001b[0m)              │         \u001b[38;5;34m15,365\u001b[0m │ flatten[\u001b[38;5;34m0\u001b[0m][\u001b[38;5;34m0\u001b[0m]          │\n",
              "│ (\u001b[38;5;33mDense\u001b[0m)                   │                        │                │                        │\n",
              "└───────────────────────────┴────────────────────────┴────────────────┴────────────────────────┘\n"
            ],
            "text/html": [
              "<pre style=\"white-space:pre;overflow-x:auto;line-height:normal;font-family:Menlo,'DejaVu Sans Mono',consolas,'Courier New',monospace\">┏━━━━━━━━━━━━━━━━━━━━━━━━━━━┳━━━━━━━━━━━━━━━━━━━━━━━━┳━━━━━━━━━━━━━━━━┳━━━━━━━━━━━━━━━━━━━━━━━━┓\n",
              "┃<span style=\"font-weight: bold\"> Layer (type)              </span>┃<span style=\"font-weight: bold\"> Output Shape           </span>┃<span style=\"font-weight: bold\">        Param # </span>┃<span style=\"font-weight: bold\"> Connected to           </span>┃\n",
              "┡━━━━━━━━━━━━━━━━━━━━━━━━━━━╇━━━━━━━━━━━━━━━━━━━━━━━━╇━━━━━━━━━━━━━━━━╇━━━━━━━━━━━━━━━━━━━━━━━━┩\n",
              "│ InputImage (<span style=\"color: #0087ff; text-decoration-color: #0087ff\">InputLayer</span>)   │ (<span style=\"color: #00d7ff; text-decoration-color: #00d7ff\">None</span>, <span style=\"color: #00af00; text-decoration-color: #00af00\">32</span>, <span style=\"color: #00af00; text-decoration-color: #00af00\">32</span>, <span style=\"color: #00af00; text-decoration-color: #00af00\">3</span>)      │              <span style=\"color: #00af00; text-decoration-color: #00af00\">0</span> │ -                      │\n",
              "├───────────────────────────┼────────────────────────┼────────────────┼────────────────────────┤\n",
              "│ flatten (<span style=\"color: #0087ff; text-decoration-color: #0087ff\">Flatten</span>)         │ (<span style=\"color: #00d7ff; text-decoration-color: #00d7ff\">None</span>, <span style=\"color: #00af00; text-decoration-color: #00af00\">3072</span>)           │              <span style=\"color: #00af00; text-decoration-color: #00af00\">0</span> │ InputImage[<span style=\"color: #00af00; text-decoration-color: #00af00\">0</span>][<span style=\"color: #00af00; text-decoration-color: #00af00\">0</span>]       │\n",
              "├───────────────────────────┼────────────────────────┼────────────────┼────────────────────────┤\n",
              "│ FirstComponentClass       │ (<span style=\"color: #00d7ff; text-decoration-color: #00d7ff\">None</span>, <span style=\"color: #00af00; text-decoration-color: #00af00\">5</span>)              │         <span style=\"color: #00af00; text-decoration-color: #00af00\">15,365</span> │ flatten[<span style=\"color: #00af00; text-decoration-color: #00af00\">0</span>][<span style=\"color: #00af00; text-decoration-color: #00af00\">0</span>]          │\n",
              "│ (<span style=\"color: #0087ff; text-decoration-color: #0087ff\">Dense</span>)                   │                        │                │                        │\n",
              "├───────────────────────────┼────────────────────────┼────────────────┼────────────────────────┤\n",
              "│ SecondComponentClass      │ (<span style=\"color: #00d7ff; text-decoration-color: #00d7ff\">None</span>, <span style=\"color: #00af00; text-decoration-color: #00af00\">5</span>)              │         <span style=\"color: #00af00; text-decoration-color: #00af00\">15,365</span> │ flatten[<span style=\"color: #00af00; text-decoration-color: #00af00\">0</span>][<span style=\"color: #00af00; text-decoration-color: #00af00\">0</span>]          │\n",
              "│ (<span style=\"color: #0087ff; text-decoration-color: #0087ff\">Dense</span>)                   │                        │                │                        │\n",
              "└───────────────────────────┴────────────────────────┴────────────────┴────────────────────────┘\n",
              "</pre>\n"
            ]
          },
          "metadata": {}
        },
        {
          "output_type": "display_data",
          "data": {
            "text/plain": [
              "\u001b[1m Total params: \u001b[0m\u001b[38;5;34m30,730\u001b[0m (120.04 KB)\n"
            ],
            "text/html": [
              "<pre style=\"white-space:pre;overflow-x:auto;line-height:normal;font-family:Menlo,'DejaVu Sans Mono',consolas,'Courier New',monospace\"><span style=\"font-weight: bold\"> Total params: </span><span style=\"color: #00af00; text-decoration-color: #00af00\">30,730</span> (120.04 KB)\n",
              "</pre>\n"
            ]
          },
          "metadata": {}
        },
        {
          "output_type": "display_data",
          "data": {
            "text/plain": [
              "\u001b[1m Trainable params: \u001b[0m\u001b[38;5;34m30,730\u001b[0m (120.04 KB)\n"
            ],
            "text/html": [
              "<pre style=\"white-space:pre;overflow-x:auto;line-height:normal;font-family:Menlo,'DejaVu Sans Mono',consolas,'Courier New',monospace\"><span style=\"font-weight: bold\"> Trainable params: </span><span style=\"color: #00af00; text-decoration-color: #00af00\">30,730</span> (120.04 KB)\n",
              "</pre>\n"
            ]
          },
          "metadata": {}
        },
        {
          "output_type": "display_data",
          "data": {
            "text/plain": [
              "\u001b[1m Non-trainable params: \u001b[0m\u001b[38;5;34m0\u001b[0m (0.00 B)\n"
            ],
            "text/html": [
              "<pre style=\"white-space:pre;overflow-x:auto;line-height:normal;font-family:Menlo,'DejaVu Sans Mono',consolas,'Courier New',monospace\"><span style=\"font-weight: bold\"> Non-trainable params: </span><span style=\"color: #00af00; text-decoration-color: #00af00\">0</span> (0.00 B)\n",
              "</pre>\n"
            ]
          },
          "metadata": {}
        }
      ]
    },
    {
      "cell_type": "markdown",
      "source": [
        "Visualizzo un plot della rete"
      ],
      "metadata": {
        "id": "O0iFtgJQzpL9"
      }
    },
    {
      "cell_type": "code",
      "source": [
        "keras.utils.plot_model(model, \"model.png\", show_shapes = True, show_layer_names = True)"
      ],
      "metadata": {
        "colab": {
          "base_uri": "https://localhost:8080/",
          "height": 534
        },
        "id": "ZkOcyh9LzrAZ",
        "outputId": "86c1abf0-26e4-4787-c59e-22e41f51d83b"
      },
      "execution_count": 19,
      "outputs": [
        {
          "output_type": "execute_result",
          "data": {
            "image/png": "[encoded data removed]",
            "text/plain": [
              "<IPython.core.display.Image object>"
            ]
          },
          "metadata": {},
          "execution_count": 19
        }
      ]
    },
    {
      "cell_type": "markdown",
      "source": [
        "Compilo la rete."
      ],
      "metadata": {
        "id": "oGs4RqwG21_T"
      }
    },
    {
      "cell_type": "code",
      "source": [
        "model.compile(\n",
        "    loss=['categorical_crossentropy', 'categorical_crossentropy'],\n",
        "    optimizer=keras.optimizers.RMSprop(),\n",
        "    metrics=['accuracy', 'accuracy'],\n",
        ")"
      ],
      "metadata": {
        "id": "LItZbtEP23M-"
      },
      "execution_count": 20,
      "outputs": []
    },
    {
      "cell_type": "markdown",
      "source": [
        "Addestro la rete."
      ],
      "metadata": {
        "id": "rwoCkNBs5Qw0"
      }
    },
    {
      "cell_type": "code",
      "source": [
        "history = model.fit(x_train, y_train, batch_size=batch_size, epochs=epochs, validation_data=(x_val, y_val))"
      ],
      "metadata": {
        "colab": {
          "base_uri": "https://localhost:8080/"
        },
        "id": "f1lO6tqQ5Rum",
        "outputId": "5c5f4a27-5c83-4c1e-e18f-41909993c124"
      },
      "execution_count": 21,
      "outputs": [
        {
          "output_type": "stream",
          "name": "stdout",
          "text": [
            "Epoch 1/10\n",
            "\u001b[1m625/625\u001b[0m \u001b[32m━━━━━━━━━━━━━━━━━━━━\u001b[0m\u001b[37m\u001b[0m \u001b[1m4s\u001b[0m 5ms/step - FirstComponentClass_accuracy: 0.2694 - FirstComponentClass_loss: 1.8096 - SecondComponentClass_accuracy: 0.3029 - SecondComponentClass_loss: 1.7415 - loss: 3.5511 - val_FirstComponentClass_accuracy: 0.2899 - val_FirstComponentClass_loss: 1.7603 - val_SecondComponentClass_accuracy: 0.3908 - val_SecondComponentClass_loss: 1.4481 - val_loss: 3.2083\n",
            "Epoch 2/10\n",
            "\u001b[1m625/625\u001b[0m \u001b[32m━━━━━━━━━━━━━━━━━━━━\u001b[0m\u001b[37m\u001b[0m \u001b[1m3s\u001b[0m 4ms/step - FirstComponentClass_accuracy: 0.3310 - FirstComponentClass_loss: 1.6689 - SecondComponentClass_accuracy: 0.3677 - SecondComponentClass_loss: 1.5769 - loss: 3.2458 - val_FirstComponentClass_accuracy: 0.3048 - val_FirstComponentClass_loss: 1.7041 - val_SecondComponentClass_accuracy: 0.4092 - val_SecondComponentClass_loss: 1.4322 - val_loss: 3.1352\n",
            "Epoch 3/10\n",
            "\u001b[1m625/625\u001b[0m \u001b[32m━━━━━━━━━━━━━━━━━━━━\u001b[0m\u001b[37m\u001b[0m \u001b[1m3s\u001b[0m 4ms/step - FirstComponentClass_accuracy: 0.3457 - FirstComponentClass_loss: 1.6443 - SecondComponentClass_accuracy: 0.3839 - SecondComponentClass_loss: 1.5630 - loss: 3.2073 - val_FirstComponentClass_accuracy: 0.3393 - val_FirstComponentClass_loss: 1.5422 - val_SecondComponentClass_accuracy: 0.3828 - val_SecondComponentClass_loss: 1.5162 - val_loss: 3.0563\n",
            "Epoch 4/10\n",
            "\u001b[1m625/625\u001b[0m \u001b[32m━━━━━━━━━━━━━━━━━━━━\u001b[0m\u001b[37m\u001b[0m \u001b[1m4s\u001b[0m 6ms/step - FirstComponentClass_accuracy: 0.3514 - FirstComponentClass_loss: 1.6208 - SecondComponentClass_accuracy: 0.3914 - SecondComponentClass_loss: 1.5419 - loss: 3.1628 - val_FirstComponentClass_accuracy: 0.2701 - val_FirstComponentClass_loss: 1.7375 - val_SecondComponentClass_accuracy: 0.4004 - val_SecondComponentClass_loss: 1.5243 - val_loss: 3.2582\n",
            "Epoch 5/10\n",
            "\u001b[1m625/625\u001b[0m \u001b[32m━━━━━━━━━━━━━━━━━━━━\u001b[0m\u001b[37m\u001b[0m \u001b[1m4s\u001b[0m 4ms/step - FirstComponentClass_accuracy: 0.3472 - FirstComponentClass_loss: 1.6311 - SecondComponentClass_accuracy: 0.3966 - SecondComponentClass_loss: 1.5298 - loss: 3.1608 - val_FirstComponentClass_accuracy: 0.3074 - val_FirstComponentClass_loss: 1.8441 - val_SecondComponentClass_accuracy: 0.3750 - val_SecondComponentClass_loss: 1.6083 - val_loss: 3.4510\n",
            "Epoch 6/10\n",
            "\u001b[1m625/625\u001b[0m \u001b[32m━━━━━━━━━━━━━━━━━━━━\u001b[0m\u001b[37m\u001b[0m \u001b[1m2s\u001b[0m 4ms/step - FirstComponentClass_accuracy: 0.3556 - FirstComponentClass_loss: 1.6231 - SecondComponentClass_accuracy: 0.4028 - SecondComponentClass_loss: 1.5127 - loss: 3.1357 - val_FirstComponentClass_accuracy: 0.3430 - val_FirstComponentClass_loss: 1.7488 - val_SecondComponentClass_accuracy: 0.4119 - val_SecondComponentClass_loss: 1.4895 - val_loss: 3.2380\n",
            "Epoch 7/10\n",
            "\u001b[1m625/625\u001b[0m \u001b[32m━━━━━━━━━━━━━━━━━━━━\u001b[0m\u001b[37m\u001b[0m \u001b[1m3s\u001b[0m 4ms/step - FirstComponentClass_accuracy: 0.3566 - FirstComponentClass_loss: 1.6130 - SecondComponentClass_accuracy: 0.4054 - SecondComponentClass_loss: 1.5140 - loss: 3.1271 - val_FirstComponentClass_accuracy: 0.3236 - val_FirstComponentClass_loss: 1.7235 - val_SecondComponentClass_accuracy: 0.3978 - val_SecondComponentClass_loss: 1.4757 - val_loss: 3.1974\n",
            "Epoch 8/10\n",
            "\u001b[1m625/625\u001b[0m \u001b[32m━━━━━━━━━━━━━━━━━━━━\u001b[0m\u001b[37m\u001b[0m \u001b[1m4s\u001b[0m 6ms/step - FirstComponentClass_accuracy: 0.3604 - FirstComponentClass_loss: 1.6018 - SecondComponentClass_accuracy: 0.4134 - SecondComponentClass_loss: 1.5012 - loss: 3.1030 - val_FirstComponentClass_accuracy: 0.2949 - val_FirstComponentClass_loss: 1.6936 - val_SecondComponentClass_accuracy: 0.3356 - val_SecondComponentClass_loss: 1.7135 - val_loss: 3.4043\n",
            "Epoch 9/10\n",
            "\u001b[1m625/625\u001b[0m \u001b[32m━━━━━━━━━━━━━━━━━━━━\u001b[0m\u001b[37m\u001b[0m \u001b[1m3s\u001b[0m 4ms/step - FirstComponentClass_accuracy: 0.3642 - FirstComponentClass_loss: 1.6064 - SecondComponentClass_accuracy: 0.4108 - SecondComponentClass_loss: 1.4971 - loss: 3.1035 - val_FirstComponentClass_accuracy: 0.3390 - val_FirstComponentClass_loss: 1.8585 - val_SecondComponentClass_accuracy: 0.3798 - val_SecondComponentClass_loss: 1.5455 - val_loss: 3.4010\n",
            "Epoch 10/10\n",
            "\u001b[1m625/625\u001b[0m \u001b[32m━━━━━━━━━━━━━━━━━━━━\u001b[0m\u001b[37m\u001b[0m \u001b[1m5s\u001b[0m 4ms/step - FirstComponentClass_accuracy: 0.3606 - FirstComponentClass_loss: 1.6109 - SecondComponentClass_accuracy: 0.4113 - SecondComponentClass_loss: 1.5034 - loss: 3.1144 - val_FirstComponentClass_accuracy: 0.3448 - val_FirstComponentClass_loss: 1.6679 - val_SecondComponentClass_accuracy: 0.4224 - val_SecondComponentClass_loss: 1.4581 - val_loss: 3.1220\n"
          ]
        }
      ]
    },
    {
      "cell_type": "markdown",
      "source": [
        "Ora definisco una funzione per la creazione di grafici della storia del training."
      ],
      "metadata": {
        "id": "SHZLGmdV8m8Y"
      }
    },
    {
      "cell_type": "code",
      "source": [
        "print(history.history.keys())\n",
        "\n",
        "def plot_training_history(history, num_epochs):\n",
        "\n",
        "    # Estrai la loss di training e le due accuracy di validation, una per ogni output\n",
        "    training_loss = history.history['loss']\n",
        "    val_first_component_class_accuracy = history.history['val_FirstComponentClass_accuracy']\n",
        "    val_second_component_class_accuracy = history.history['val_SecondComponentClass_accuracy']\n",
        "\n",
        "    avg_val_accuracy = [(first_accuracy + second_accuracy) / 2 for (first_accuracy, second_accuracy) in zip(val_first_component_class_accuracy, val_second_component_class_accuracy)]\n",
        "\n",
        "    # Crea un grafico\n",
        "    epochs = range(1, num_epochs + 1)\n",
        "    plt.figure(figsize=(12, 4))\n",
        "\n",
        "    plt.subplot(1, 2, 1)\n",
        "    plt.plot(epochs, training_loss, label='Training Loss')\n",
        "    plt.title('Training Loss')\n",
        "    plt.xlabel('Epochs')\n",
        "\n",
        "    plt.subplot(1, 2, 2)\n",
        "    plt.plot(epochs, avg_val_accuracy, label='Average Validation Accuracy')\n",
        "    plt.title('Average Validation Accuracy')\n",
        "    plt.xlabel('Epochs')\n",
        "\n",
        "    plt.tight_layout()\n",
        "    plt.show()\n",
        "\n",
        "plot_training_history(history, epochs)"
      ],
      "metadata": {
        "colab": {
          "base_uri": "https://localhost:8080/",
          "height": 437
        },
        "id": "uNubcBIH80jO",
        "outputId": "9665c83a-5e24-41a4-a08a-0674e6e775df"
      },
      "execution_count": 22,
      "outputs": [
        {
          "output_type": "stream",
          "name": "stdout",
          "text": [
            "dict_keys(['FirstComponentClass_accuracy', 'FirstComponentClass_loss', 'SecondComponentClass_accuracy', 'SecondComponentClass_loss', 'loss', 'val_FirstComponentClass_accuracy', 'val_FirstComponentClass_loss', 'val_SecondComponentClass_accuracy', 'val_SecondComponentClass_loss', 'val_loss'])\n"
          ]
        },
        {
          "output_type": "display_data",
          "data": {
            "text/plain": [
              "<Figure size 1200x400 with 2 Axes>"
            ],
            "image/png": "[encoded data removed]"
          },
          "metadata": {}
        }
      ]
    },
    {
      "cell_type": "markdown",
      "source": [
        "Definisco due funzioni per la valutazione finale del modello"
      ],
      "metadata": {
        "id": "9vI_Q8jA878f"
      }
    },
    {
      "cell_type": "code",
      "source": [
        "def eval_model(model):\n",
        "  x_test, y_test = next(testgen)\n",
        "  if isinstance(model, keras.Model):\n",
        "    guesses = model.predict(x_test)\n",
        "    correct_guesses_1 = np.argmax(guesses[0], axis=1) == np.argmax(y_test[0], axis=1)\n",
        "    correct_guesses_2 = np.argmax(guesses[1], axis=1) == np.argmax(y_test[1], axis=1)\n",
        "  else:\n",
        "    guesses = model(x_test)\n",
        "    correct_guesses_1 = guesses[:,0] == np.argmax(y_test[0], axis=1)\n",
        "    correct_guesses_2 = guesses[:,1] == np.argmax(y_test[1], axis=1)\n",
        "  return (np.mean(correct_guesses_1) + np.mean(correct_guesses_2)) / 2\n",
        "\n",
        "def multiple_eval_model(model, repeat_eval = 10):\n",
        "  eval_results = []\n",
        "  for i in range(repeat_eval):\n",
        "    eval_results.append(eval_model(model))\n",
        "  print(\"mean accuracy = \", np.mean(eval_results))\n",
        "  print(\"standard deviation = \", np.std(eval_results))"
      ],
      "metadata": {
        "id": "rkmPc5ET8-bj"
      },
      "execution_count": 27,
      "outputs": []
    },
    {
      "cell_type": "markdown",
      "source": [
        "Valuto la rete e il modello casuale e confronto le loro prestazioni.\n",
        "Si può facilmente dimostrare che la media delle accuratezze\n",
        "calcolata utilizzando la funzione \"multiple_eval_model\" è un numero\n",
        "appartenente all'intervallo [0,1]"
      ],
      "metadata": {
        "id": "VeGuq2s37qpa"
      }
    },
    {
      "cell_type": "code",
      "source": [
        "print('Valutazione modello casuale')\n",
        "multiple_eval_model(random_model)\n",
        "\n",
        "print('Valutazione rete neurale')\n",
        "multiple_eval_model(model)"
      ],
      "metadata": {
        "colab": {
          "base_uri": "https://localhost:8080/"
        },
        "id": "Allr9jvA7vDp",
        "outputId": "58c21e97-bae0-4a9f-94ac-a71ac9fce292"
      },
      "execution_count": 28,
      "outputs": [
        {
          "output_type": "stream",
          "name": "stdout",
          "text": [
            "Valutazione modello casuale\n",
            "mean accuracy =  0.200265\n",
            "standard deviation =  0.0022026177607565025\n",
            "Valutazione rete neurale\n",
            "\u001b[1m313/313\u001b[0m \u001b[32m━━━━━━━━━━━━━━━━━━━━\u001b[0m\u001b[37m\u001b[0m \u001b[1m1s\u001b[0m 3ms/step\n",
            "\u001b[1m313/313\u001b[0m \u001b[32m━━━━━━━━━━━━━━━━━━━━\u001b[0m\u001b[37m\u001b[0m \u001b[1m0s\u001b[0m 1ms/step\n",
            "\u001b[1m313/313\u001b[0m \u001b[32m━━━━━━━━━━━━━━━━━━━━\u001b[0m\u001b[37m\u001b[0m \u001b[1m0s\u001b[0m 1ms/step\n",
            "\u001b[1m313/313\u001b[0m \u001b[32m━━━━━━━━━━━━━━━━━━━━\u001b[0m\u001b[37m\u001b[0m \u001b[1m0s\u001b[0m 1ms/step\n",
            "\u001b[1m313/313\u001b[0m \u001b[32m━━━━━━━━━━━━━━━━━━━━\u001b[0m\u001b[37m\u001b[0m \u001b[1m0s\u001b[0m 1ms/step\n",
            "\u001b[1m313/313\u001b[0m \u001b[32m━━━━━━━━━━━━━━━━━━━━\u001b[0m\u001b[37m\u001b[0m \u001b[1m0s\u001b[0m 1ms/step\n",
            "\u001b[1m313/313\u001b[0m \u001b[32m━━━━━━━━━━━━━━━━━━━━\u001b[0m\u001b[37m\u001b[0m \u001b[1m0s\u001b[0m 1ms/step\n",
            "\u001b[1m313/313\u001b[0m \u001b[32m━━━━━━━━━━━━━━━━━━━━\u001b[0m\u001b[37m\u001b[0m \u001b[1m0s\u001b[0m 1ms/step\n",
            "\u001b[1m313/313\u001b[0m \u001b[32m━━━━━━━━━━━━━━━━━━━━\u001b[0m\u001b[37m\u001b[0m \u001b[1m0s\u001b[0m 2ms/step\n",
            "\u001b[1m313/313\u001b[0m \u001b[32m━━━━━━━━━━━━━━━━━━━━\u001b[0m\u001b[37m\u001b[0m \u001b[1m1s\u001b[0m 2ms/step\n",
            "mean accuracy =  0.388745\n",
            "standard deviation =  0.002767801474094569\n"
          ]
        }
      ]
    }
  ],
  "metadata": {
    "kernelspec": {
      "display_name": "machine-learning-lab-YGnFFPS1-py3.12",
      "language": "python",
      "name": "python3"
    },
    "language_info": {
      "codemirror_mode": {
        "name": "ipython",
        "version": 3
      },
      "file_extension": ".py",
      "mimetype": "text/x-python",
      "name": "python",
      "nbconvert_exporter": "python",
      "pygments_lexer": "ipython3",
      "version": "3.12.7"
    },
    "colab": {
      "provenance": [],
      "include_colab_link": true
    }
  },
  "nbformat": 4,
  "nbformat_minor": 0
}